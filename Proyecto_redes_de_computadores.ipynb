{
  "nbformat": 4,
  "nbformat_minor": 0,
  "metadata": {
    "colab": {
      "name": "Proyecto_redes_de_computadores",
      "provenance": [],
      "collapsed_sections": [
        "6u-pRHU_ni8R",
        "Z3DqYrDKnaZS"
      ],
      "authorship_tag": "ABX9TyPlnngIiqvSljD0K8fdWLQG",
      "include_colab_link": true
    },
    "kernelspec": {
      "name": "python3",
      "display_name": "Python 3"
    },
    "language_info": {
      "name": "python"
    }
  },
  "cells": [
    {
      "cell_type": "markdown",
      "metadata": {
        "id": "view-in-github",
        "colab_type": "text"
      },
      "source": [
        "<a href=\"https://colab.research.google.com/github/estebanhernandezr/Redes-de-computadores/blob/main/Proyecto_redes_de_computadores.ipynb\" target=\"_parent\"><img src=\"https://colab.research.google.com/assets/colab-badge.svg\" alt=\"Open In Colab\"/></a>"
      ]
    },
    {
      "cell_type": "markdown",
      "source": [
        "# ***Proyecto_Final_Redes.py***"
      ],
      "metadata": {
        "id": "r1BjwvDZBfhY"
      }
    },
    {
      "cell_type": "markdown",
      "source": [
        "## **imports**"
      ],
      "metadata": {
        "id": "6u-pRHU_ni8R"
      }
    },
    {
      "cell_type": "code",
      "source": [
        "import numpy as np\n",
        "import pandas as pd\n",
        "import copy\n",
        "import scipy as sp\n",
        "import networkx as nx\n",
        "from scipy import sparse\n",
        "import time\n",
        "import random as rd\n",
        "import csv\n",
        "import matplotlib.pyplot as plt"
      ],
      "metadata": {
        "id": "S7ub_h6rmAq3"
      },
      "execution_count": 100,
      "outputs": []
    },
    {
      "cell_type": "markdown",
      "source": [
        "## **Functions**"
      ],
      "metadata": {
        "id": "Z3DqYrDKnaZS"
      }
    },
    {
      "cell_type": "code",
      "source": [
        "def create_random_sparse(nodos = 15):\n",
        "    # Creates a random sparse matrix given a number of nodes\n",
        "    # INPUT:\n",
        "    #   nodos: The number of nodes in the graph\n",
        "    # OUTPUT:\n",
        "    #   mA: numpy array of the sparse matriz\n",
        "    nodos = int(nodos)\n",
        "    i = 0\n",
        "    while i <= nodos:\n",
        "        tmp = np.array([np.random.randint([0, i, 1], [nodos, i+1, 15])])\n",
        "        if tmp[0][0] != tmp[0][1]:\n",
        "            if i == 0:\n",
        "                mA = np.array([np.random.randint([0, i, 1], [nodos, i+1, 15])])\n",
        "            else:\n",
        "                mA = np.concatenate((mA, tmp), axis=0)\n",
        "            i+=1\n",
        "    i = 0\n",
        "    while i<int(nodos/2):\n",
        "        tmp = np.array([np.random.randint([0, 0, 1], [nodos, nodos, 15])])\n",
        "        if tmp[0][0] != tmp[0][1]:\n",
        "            mA = np.concatenate((mA, tmp), axis=0)\n",
        "            i+=1\n",
        "    return mA\n",
        "\n",
        "def import_csv(filename):\n",
        "    # Reads a csv and converts to numpy array\n",
        "    # INPUT:\n",
        "    #   filename: name of the csv file\n",
        "    # OUTPUT:\n",
        "    #   numpy array of the csv file\n",
        "    df = pd.read_csv(filename, sep=';')\n",
        "    return df.to_numpy()\n",
        "\n",
        "def import_txt(filename):\n",
        "    # Reads a txt and converts to numpy array\n",
        "    # INPUT:\n",
        "    #   filename: name of the txt file\n",
        "    # OUTPUT:\n",
        "    #   numpy array of the txt file\n",
        "    f = open(filename, \"r\")\n",
        "    first1 = True\n",
        "    text = f.readline()\n",
        "    while text != '':\n",
        "        a = ''\n",
        "        b = ''\n",
        "        c = ''\n",
        "        start = 'a'\n",
        "        for i in text:\n",
        "            if i != ' ' and start == 'a':\n",
        "                a+=i\n",
        "            elif i!= ' ' and start == 'b':\n",
        "                b+=i\n",
        "            elif i != '\\n' and start == 'c':\n",
        "                c+=i\n",
        "            else:\n",
        "                if start == 'a':\n",
        "                    start = 'b'\n",
        "                elif start == 'b':\n",
        "                    start = 'c'\n",
        "        if first1:\n",
        "            mT = np.array([[int(a),int(b),int(c)]])\n",
        "            first1 = False\n",
        "        else:\n",
        "            tmp = np.array([[int(a),int(b),int(c)]])\n",
        "            mT = np.concatenate((mT, tmp), axis=0)\n",
        "        text = f.readline()\n",
        "    return mT"
      ],
      "metadata": {
        "id": "pCrAWNk8mJg5"
      },
      "execution_count": 101,
      "outputs": []
    },
    {
      "cell_type": "markdown",
      "source": [
        "## **Classes**"
      ],
      "metadata": {
        "id": "qZJKaXRknXM-"
      }
    },
    {
      "cell_type": "code",
      "execution_count": 102,
      "metadata": {
        "id": "2gTETdxZBU0-"
      },
      "outputs": [],
      "source": [
        "class Node:\n",
        "    # Class that defines a node of a graph\n",
        "    def __init__(self, id):\n",
        "        # Class constructor\n",
        "        # INPUT:\n",
        "        #   id: int that identifies node\n",
        "        self.id = id\n",
        "        self.neighs = []\n",
        "        self.distance = np.inf\n",
        "        self.predecessor = None\n",
        "\n",
        "    def add_neigh(self, node, weight):\n",
        "        # Adds nodes to the neighs list of the node\n",
        "        # INPUT:\n",
        "        #   node: object Node\n",
        "        #   weight: weight of the edge\n",
        "        self.neighs.append((node, float(weight)))\n",
        "\n",
        "class Graph(Node):\n",
        "    # Class that creates a graph\n",
        "    def __init__(self, sparse_mat):\n",
        "        # Class constructor\n",
        "        # INPUT:\n",
        "        #   sparse_mat: np.array with [node A, node B, weight] as rows\n",
        "\n",
        "        self.nodes = []\n",
        "        self.sparse = sparse_mat\n",
        "\n",
        "        for row in sparse_mat:\n",
        "            node_A = row[0]\n",
        "            node_B = row[1]\n",
        "            weight = row[2]\n",
        "\n",
        "            A_in_graph = self.node_in_graph(node_A)\n",
        "            B_in_graph = self.node_in_graph(node_B)\n",
        "\n",
        "            if A_in_graph == False:\n",
        "                self.nodes.append(Node(node_A))\n",
        "            \n",
        "                if B_in_graph == False:\n",
        "                    self.nodes.append(Node(node_B))\n",
        "                    self.nodes[-2].add_neigh(self.nodes[-1], weight)\n",
        "                    self.nodes[-1].add_neigh(self.nodes[-2], weight)\n",
        "\n",
        "                else: # B_in_graph -> index where node B is in self.nodes\n",
        "                    self.nodes[-1].add_neigh(self.nodes[B_in_graph-1], weight)\n",
        "                    self.nodes[B_in_graph-1].add_neigh(self.nodes[-1], weight)\n",
        "                \n",
        "            else:\n",
        "                if B_in_graph == False:\n",
        "                    self.nodes.append(Node(node_B))\n",
        "                    self.nodes[-1].add_neigh(self.nodes[A_in_graph-1], weight)\n",
        "                    self.nodes[A_in_graph-1].add_neigh(self.nodes[-1], weight)\n",
        "\n",
        "                else:\n",
        "                    self.nodes[A_in_graph-1].add_neigh(self.nodes[B_in_graph-1], weight)\n",
        "                    self.nodes[B_in_graph-1].add_neigh(self.nodes[A_in_graph-1], weight)\n",
        "\n",
        "    def node_in_graph(self, node_id):\n",
        "        # determines whether or not a node is in a graph. Looks for it in self.nodes\n",
        "        # INPUT:\n",
        "        #   node_id: int that specifies the node to look for\n",
        "        # OUTPUT:\n",
        "        #   returns index of the node in the list if exists, if not return False\n",
        "        for idx, node in enumerate(self.nodes):\n",
        "            if node.id == node_id: \n",
        "                return idx+1\n",
        "        return False\n",
        "\n",
        "    def _min_dist(self, nodes):\n",
        "        # determines the minimum distance of a list of nodes\n",
        "        # INPUT:\n",
        "        #   nodes: list of nodes to look on\n",
        "        # OUTPUT:\n",
        "        #   min_node: the node with the minimum distance\n",
        "        min_node = nodes[0]\n",
        "        min_dist = min_node.distance\n",
        "        for i in range(1, len(nodes)):\n",
        "            if nodes[i].distance < min_dist:\n",
        "                min_dist = nodes[i].distance\n",
        "                min_node = nodes[i]\n",
        "        return min_node\n",
        "\n",
        "    def sparse2adj(self, sparse):\n",
        "        # transforms a sparse matrix into a adjacency matrix\n",
        "        # INPUT:\n",
        "        #   sparse: numpy array - sparse matrix of graph\n",
        "        # OUTPUT:\n",
        "        #   adj: numpy array - adjacency matrix of graph\n",
        "        adj = np.zeros((len(self.nodes),len(self.nodes)))\n",
        "        for row in sparse:\n",
        "            node_A = int(row[0])\n",
        "            node_B = int(row[1])\n",
        "            weight = float(row[2])\n",
        "            adj[node_A][node_B] = weight\n",
        "            adj[node_B][node_A] = weight\n",
        "        return adj\n",
        "\n",
        "    def draw_graph(self):\n",
        "        # draws each node and its corresponding edges\n",
        "        G = nx.convert_matrix.from_numpy_array(self.sparse2adj(self.sparse))\n",
        "        pos = nx.spring_layout(G)\n",
        "        labels = {}\n",
        "        for i in self.sparse:\n",
        "            labels.setdefault((i[0],i[1]),i[2])\n",
        "        plt.title(\"Graph visualization\")\n",
        "        nx.draw(G, pos, with_labels = True)\n",
        "        nx.draw_networkx_edge_labels(G, pos, edge_labels = labels)\n",
        "        plt.show()\n",
        "        \n",
        "    def routing_table(self):\n",
        "        # determines and prints the routing table the graph\n",
        "        # OUTPUT:\n",
        "        #   table: DataFrame of the routing table of graph\n",
        "        id = []\n",
        "        dist = []\n",
        "        pred = []\n",
        "        for node in self.nodes:\n",
        "            id.append(node.id)\n",
        "            dist.append(node.distance)\n",
        "            pred.append(node.predecessor)\n",
        "        table = np.column_stack((id,dist,pred))\n",
        "        table = pd.DataFrame(table)\n",
        "        table.columns = [\"id\", \"distance\", \"predecessor\"]\n",
        "        print(\"\\n ----------------- Routing Table ---------------------- \\n\")\n",
        "        print(table.to_string(index=False))\n",
        "        return table\n",
        "\n",
        "    def draw_tree(self, route_table):\n",
        "        # draws the tree corresponding to the routing table\n",
        "        # INPUT:\n",
        "        #   routing_table: DataFrame with the routing table\n",
        "        route_m = route_table.to_numpy()\n",
        "        route_m[:, [2, 1]] = route_m[:, [1, 2]] \n",
        "        route_m = np.delete(route_m, (0), axis=0)\n",
        "        G = nx.convert_matrix.from_numpy_array(self.sparse2adj(route_m))\n",
        "        plt.title(\"Final Tree\")\n",
        "        nx.draw(G, with_labels = True)\n",
        "        plt.show()\n",
        "    \n",
        "    def dijkstra(self, node):\n",
        "        # Performs Dijkstra's algorithm and plots the original graph and the resulting tree\n",
        "\n",
        "        actual = node\n",
        "        actual.distance = 0\n",
        "        actual.predecessor = -1\n",
        "        unvisited = copy.copy(self.nodes)\n",
        "\n",
        "        while len(unvisited) > 0:\n",
        "            for neigh in actual.neighs:\n",
        "                if neigh[0] in unvisited: #se puede crear un atributo\n",
        "                    temp_dist = actual.distance + neigh[1]\n",
        "                    if temp_dist < neigh[0].distance:\n",
        "                        neigh[0].distance = temp_dist\n",
        "                        neigh[0].predecessor = actual.id\n",
        "            unvisited.remove(actual)\n",
        "            if len(unvisited) != 0:\n",
        "                actual = self._min_dist(unvisited)\n",
        "\n",
        "        #self.draw_tree(self.routing_table())"
      ]
    },
    {
      "cell_type": "markdown",
      "source": [
        "# ***main_Proyecto_Final_Redes.py***"
      ],
      "metadata": {
        "id": "XimfAgEWBqU7"
      }
    },
    {
      "cell_type": "code",
      "source": [
        "# Redes de Computadores 2022\n",
        "# Universidad del Rosario - School of Engineering, Science and Technology\n",
        "# Pr. David Celeita\n",
        "\n",
        "# This is 0 main function. The interaction between user and tool si performed here.\n",
        "\n",
        "print(\"\\n Welcome to Link-State routing Tool based on Dijkstra!\")\n",
        "\n",
        "selection = input(\"Select 0 if you want me to create a random graph for you. Press 1 if you want to upload it \\n Type your selection and press enter: \")\n",
        "\n",
        "if selection == '0':\n",
        "    is_valid = False\n",
        "    while is_valid != True:\n",
        "        num_nodes = int(input(\"Choose the number of nodes in the graph. They must be between 15 and 50: \"))\n",
        "        if 15 <= num_nodes and num_nodes <= 50:\n",
        "            is_valid = True\n",
        "\n",
        "    rand_sparse = create_random_sparse(num_nodes) \n",
        "    graph = Graph(rand_sparse)\n",
        "    print('Nodos: ')\n",
        "    print(graph.nodes)\n",
        "    print('Aristas:')\n",
        "    print(graph.sparse)\n",
        "    print('(nodo1, nodo2, peso arista)')\n",
        "    graph.draw_graph()\n",
        "    #graph.dijkstra()\n",
        "\n",
        "else:\n",
        "    is_valid = False\n",
        "    while is_valid != True:\n",
        "        doc_type = str(input(\"If you want to upload a CSV file type CSV or if you want a TXT file type TXT. \\n Type your selection and press enter: \"))\n",
        "        if doc_type == \"CSV\" or doc_type == \"TXT\":\n",
        "            is_valid = True\n",
        "    \n",
        "    filename = input(\"\\n Now, type the name of the file. Remember that it must be in the same folder of this .exe or specify the whole path. \\n Type you filename with the extension: \")\n",
        "    \n",
        "    if doc_type == \"CSV\":\n",
        "        sparse_m = import_csv(filename)\n",
        "        graph = Graph(sparse_m)\n",
        "        graph.draw_graph()\n",
        "        graph.dijkstra()\n",
        "\n",
        "    else:\n",
        "        sparse_m = import_txt(filename)\n",
        "        graph = Graph(sparse_m)\n",
        "        graph.draw_graph()\n",
        "        graph.dijkstra()\n"
      ],
      "metadata": {
        "colab": {
          "base_uri": "https://localhost:8080/",
          "height": 840
        },
        "id": "-r2AgrTOBsN4",
        "outputId": "ff8a7974-f389-4842-c207-05441bbd0d5b"
      },
      "execution_count": 103,
      "outputs": [
        {
          "output_type": "stream",
          "name": "stdout",
          "text": [
            "\n",
            " Welcome to Link-State routing Tool based on Dijkstra!\n",
            "Select 0 if you want me to create a random graph for you. Press 1 if you want to upload it \n",
            " Type your selection and press enter: 0\n",
            "Choose the number of nodes in the graph. They must be between 15 and 50: 15\n",
            "Nodos: \n",
            "[<__main__.Node object at 0x7f6f4a11b650>, <__main__.Node object at 0x7f6f49f03950>, <__main__.Node object at 0x7f6f4a0be750>, <__main__.Node object at 0x7f6f4a0be090>, <__main__.Node object at 0x7f6f4a0bea10>, <__main__.Node object at 0x7f6f4a0be310>, <__main__.Node object at 0x7f6f4a0befd0>, <__main__.Node object at 0x7f6f4a0be990>, <__main__.Node object at 0x7f6f4a136210>, <__main__.Node object at 0x7f6f4a0bee90>, <__main__.Node object at 0x7f6f4a136890>, <__main__.Node object at 0x7f6f4a1368d0>, <__main__.Node object at 0x7f6f4a136110>, <__main__.Node object at 0x7f6f4a1365d0>, <__main__.Node object at 0x7f6f4a136790>, <__main__.Node object at 0x7f6f4a136750>]\n",
            "Aristas:\n",
            "[[13  0  6]\n",
            " [ 3  1  9]\n",
            " [13  2 14]\n",
            " [10  3 14]\n",
            " [ 5  4 14]\n",
            " [ 0  5 14]\n",
            " [10  6  5]\n",
            " [ 6  7 10]\n",
            " [ 3  8  6]\n",
            " [ 0  9  5]\n",
            " [ 9 10  5]\n",
            " [ 0 11  3]\n",
            " [ 3 12  5]\n",
            " [14 13  3]\n",
            " [ 9 14  6]\n",
            " [10 15  1]\n",
            " [10  9 12]\n",
            " [11  7 13]\n",
            " [ 1 13  2]\n",
            " [12  1 14]\n",
            " [ 4 10  7]\n",
            " [ 1 10  2]\n",
            " [11  6  1]]\n",
            "(nodo1, nodo2, peso arista)\n"
          ]
        },
        {
          "output_type": "display_data",
          "data": {
            "text/plain": [
              "<Figure size 432x288 with 1 Axes>"
            ],
            "image/png": "[encoded data removed]"
          },
          "metadata": {}
        }
      ]
    },
    {
      "cell_type": "markdown",
      "source": [
        "# **Modelling**"
      ],
      "metadata": {
        "id": "wgf2eMm0lBMk"
      }
    },
    {
      "cell_type": "code",
      "source": [
        "def build_capacity_matrix(nodes, links):\n",
        "    capacities = np.zeros((len(nodes), len(nodes)), dtype=int)\n",
        "    for node_i in nodes:\n",
        "        for node_j in nodes:\n",
        "            for link in links:\n",
        "                if (link[0] == node_i.id and link[1] == node_j.id):\n",
        "                    i = node_i.id\n",
        "                    j = node_j.id\n",
        "                    capacities[i, j] = link[2] # CAMBIAR ESTE VALOR POR DEFECTO POR ALGÚN VALOR DE CAPACIDAD ARTIFICIAL \n",
        "    return capacities\n",
        "\n",
        "def traverse_spaning_tree(span_tree, node_id, dest_id, flag):\n",
        "    if (flag):\n",
        "        return [node_id]\n",
        "    if (node_id == dest_id):\n",
        "        print('base case: destination')\n",
        "        return [dest_id]\n",
        "    else:  \n",
        "        filas_sucesor = span_tree[span_tree['predecessor']==node_id]\n",
        "        if (filas_sucesor.empty):\n",
        "            path = traverse_spaning_tree(span_tree, node_id, dest_id, True)\n",
        "            path += [node_id]\n",
        "        else:\n",
        "            path = []\n",
        "            for index, row in filas_sucesor.iterrows():\n",
        "                sucesor = row['id']\n",
        "                aux_path = traverse_spaning_tree(span_tree, sucesor, dest_id, False)\n",
        "                if dest_id in aux_path:\n",
        "                    path += aux_path\n",
        "                    path += [node_id]\n",
        "        return path\n",
        "\n",
        "def build_traffic_demands(grafo, demand): # demand := (bandwitdh demand, source node id, destination node id)\n",
        "    nuevo_grafo = copy.deepcopy(grafo)\n",
        "    V = nuevo_grafo.nodes\n",
        "    E = nuevo_grafo.sparse\n",
        "    print(nuevo_grafo)\n",
        "    bandwidth = demand[0]\n",
        "    source = demand[1]\n",
        "    destination = demand[2]\n",
        "    for node in V:\n",
        "        if (node.id == source):\n",
        "            source = node\n",
        "        if (node.id == destination):\n",
        "            destination = node\n",
        "    print(\"FROM \", source.id, \" TO \", destination.id)\n",
        "    nuevo_grafo.dijkstra(node = nuevo_grafo.nodes[nuevo_grafo.nodes.index(source)])\n",
        "    path = traverse_spaning_tree(nuevo_grafo.routing_table(), source.id, destination.id, False)\n",
        "    print(path)"
      ],
      "metadata": {
        "id": "0HkLCoKFlEiK"
      },
      "execution_count": 114,
      "outputs": []
    },
    {
      "cell_type": "code",
      "source": [
        "capacities = build_capacity_matrix(graph.nodes, graph.sparse)\n",
        "build_traffic_demands(graph, (8, 0, 5))\n",
        "build_traffic_demands(graph, (8, 6, 5))"
      ],
      "metadata": {
        "colab": {
          "base_uri": "https://localhost:8080/"
        },
        "id": "LMkuli59iEEX",
        "outputId": "3e645052-3c59-4a02-bc22-0f3d16889b24"
      },
      "execution_count": 117,
      "outputs": [
        {
          "output_type": "stream",
          "name": "stdout",
          "text": [
            "<__main__.Graph object at 0x7f6f49d2f190>\n",
            "FROM  0  TO  5\n",
            "\n",
            " ----------------- Routing Table ---------------------- \n",
            "\n",
            "  id  distance  predecessor\n",
            "13.0       6.0          0.0\n",
            " 0.0       0.0         -1.0\n",
            " 3.0      17.0          1.0\n",
            " 1.0       8.0         13.0\n",
            " 2.0      20.0         13.0\n",
            "10.0       9.0          6.0\n",
            " 5.0      14.0          0.0\n",
            " 4.0      16.0         10.0\n",
            " 6.0       4.0         11.0\n",
            " 7.0      14.0          6.0\n",
            " 8.0      23.0          3.0\n",
            " 9.0       5.0          0.0\n",
            "11.0       3.0          0.0\n",
            "12.0      22.0          1.0\n",
            "14.0       9.0         13.0\n",
            "15.0      10.0         10.0\n",
            "base case: destination\n",
            "[5, 0]\n",
            "<__main__.Graph object at 0x7f6f4bd87050>\n",
            "FROM  6  TO  5\n",
            "\n",
            " ----------------- Routing Table ---------------------- \n",
            "\n",
            "  id  distance  predecessor\n",
            "13.0       9.0          1.0\n",
            " 0.0       4.0         11.0\n",
            " 3.0      16.0          1.0\n",
            " 1.0       7.0         10.0\n",
            " 2.0      23.0         13.0\n",
            "10.0       5.0          6.0\n",
            " 5.0      18.0          0.0\n",
            " 4.0      12.0         10.0\n",
            " 6.0       0.0         -1.0\n",
            " 7.0      10.0          6.0\n",
            " 8.0      22.0          3.0\n",
            " 9.0       9.0          0.0\n",
            "11.0       1.0          6.0\n",
            "12.0      21.0          1.0\n",
            "14.0      12.0         13.0\n",
            "15.0       6.0         10.0\n",
            "base case: destination\n",
            "[5, 0.0, 11.0, 6]\n"
          ]
        }
      ]
    },
    {
      "cell_type": "code",
      "source": [
        "print(graph.nodes[3].id)\n",
        "graph.dijkstra(node = graph.nodes[9])"
      ],
      "metadata": {
        "id": "vwfVLksQxke1"
      },
      "execution_count": null,
      "outputs": []
    },
    {
      "cell_type": "code",
      "source": [
        "traverse_spaning_tree(graph.routing_table(), 1, 8, False)"
      ],
      "metadata": {
        "id": "WGQbwpvj1kKH"
      },
      "execution_count": null,
      "outputs": []
    }
  ]
}